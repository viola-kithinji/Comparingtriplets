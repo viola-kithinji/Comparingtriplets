{
 "cells": [
  {
   "cell_type": "markdown",
   "id": "8c91c7a9",
   "metadata": {},
   "source": [
    "Complete the 'compareTriplets' function below.\n",
    "\n",
    "The function is expected to return an INTEGER_ARRAY.\n",
    "The function accepts following parameters:\n",
    "1. INTEGER_ARRAY a\n",
    "2. INTEGER_ARRAY b\n"
   ]
  },
  {
   "cell_type": "code",
   "execution_count": 1,
   "id": "44a32cf3",
   "metadata": {},
   "outputs": [],
   "source": [
    "import math\n",
    "import os\n",
    "import random\n",
    "import re\n",
    "import sys\n"
   ]
  },
  {
   "cell_type": "code",
   "execution_count": 11,
   "id": "cb2a4000",
   "metadata": {},
   "outputs": [],
   "source": [
    "def compareTriplets(a, b):\n",
    "    pointa=0\n",
    "    pointb=0\n",
    "    ar=[]\n",
    "    for i in range(3):\n",
    "        if a>b:\n",
    "            pointa+=1\n",
    "            \n",
    "        if a<b:\n",
    "            pointb+=1\n",
    "    ar.insert(0,pointa)\n",
    "    ar.insert(1,pointb)\n",
    "    return(ar)"
   ]
  },
  {
   "cell_type": "code",
   "execution_count": 12,
   "id": "15025f84",
   "metadata": {},
   "outputs": [
    {
     "data": {
      "text/plain": [
       "[0, 3]"
      ]
     },
     "execution_count": 12,
     "metadata": {},
     "output_type": "execute_result"
    }
   ],
   "source": [
    "compareTriplets(1,3)"
   ]
  },
  {
   "cell_type": "code",
   "execution_count": null,
   "id": "8f95c3e5",
   "metadata": {},
   "outputs": [],
   "source": []
  }
 ],
 "metadata": {
  "kernelspec": {
   "display_name": "Python 3 (ipykernel)",
   "language": "python",
   "name": "python3"
  },
  "language_info": {
   "codemirror_mode": {
    "name": "ipython",
    "version": 3
   },
   "file_extension": ".py",
   "mimetype": "text/x-python",
   "name": "python",
   "nbconvert_exporter": "python",
   "pygments_lexer": "ipython3",
   "version": "3.9.7"
  }
 },
 "nbformat": 4,
 "nbformat_minor": 5
}
